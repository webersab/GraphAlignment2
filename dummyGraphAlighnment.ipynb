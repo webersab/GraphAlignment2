{
 "cells": [
  {
   "cell_type": "code",
   "execution_count": 1,
   "metadata": {
    "collapsed": true
   },
   "outputs": [],
   "source": [
    "import networkx as nx"
   ]
  },
  {
   "cell_type": "code",
   "execution_count": 41,
   "metadata": {},
   "outputs": [
    {
     "name": "stdout",
     "output_type": "stream",
     "text": [
      "Total number of nodes:  6\n",
      "Total number of edges:  4\n",
      "List of all nodes:  [1, 2, 3, 4, 5, 6]\n",
      "List of all edges:  [(1, 2, {}), (2, 3, {}), (2, 4, {}), (5, 6, {})]\n",
      "Degree for all nodes:  {1: 1, 2: 3, 3: 1, 4: 1, 5: 1, 6: 1}\n",
      "Total number of self-loops:  0\n",
      "List of all nodes with self-loops:  []\n",
      "List of all nodes we can go to in a single step from node 2:  [3, 4]\n"
     ]
    }
   ],
   "source": [
    "edges1 = [(1, 2), (2, 3), (2, 4), (5, 6)] \n",
    "edges2 = [(1, 2), (2, 3), (2, 4), (5, 6)] \n",
    "G=nx.DiGraph()\n",
    "H=nx.DiGraph()\n",
    "G.add_edges_from(edges1) \n",
    "H.add_edges_from(edges2)\n",
    "H.add_node(7)\n",
    "H.add_node(8)\n",
    "\n",
    "for node in G.nodes():\n",
    "    G.node[node][\"verb\"]=\"bununu\"\n",
    "for node in H.nodes():\n",
    "    H.node[node][\"verb\"]=\"ooples\"\n",
    "\n",
    "def get_the_stats(G): \n",
    "    print(\"Total number of nodes: \", int(G.number_of_nodes())) \n",
    "    print(\"Total number of edges: \", int(G.number_of_edges())) \n",
    "    print(\"List of all nodes: \", list(G.nodes())) \n",
    "    print(\"List of all edges: \", list(G.edges(data = True))) \n",
    "    print(\"Degree for all nodes: \", dict(G.degree())) \n",
    "\n",
    "    print(\"Total number of self-loops: \", int(G.number_of_selfloops())) \n",
    "    print(\"List of all nodes with self-loops: \", \n",
    "                 list(G.nodes_with_selfloops())) \n",
    "\n",
    "    print(\"List of all nodes we can go to in a single step from node 2: \", \n",
    "                                                     list(G.neighbors(2))) \n",
    "get_the_stats(G)"
   ]
  },
  {
   "cell_type": "code",
   "execution_count": 49,
   "metadata": {},
   "outputs": [
    {
     "name": "stdout",
     "output_type": "stream",
     "text": [
      "1 {'verb': 'bununu ooples ooples'}\n",
      "2 {'verb': 'bununu ooples'}\n",
      "3 {'verb': 'bununu'}\n",
      "4 {'verb': 'bununu'}\n",
      "5 {'verb': 'bununu'}\n",
      "6 {'verb': 'bununu'}\n",
      "Total number of nodes:  6\n",
      "Total number of edges:  4\n",
      "List of all nodes:  [1, 2, 3, 4, 5, 6]\n",
      "List of all edges:  [(1, 2, {}), (2, 3, {}), (2, 4, {}), (5, 6, {})]\n",
      "Degree for all nodes:  {1: 1, 2: 3, 3: 1, 4: 1, 5: 1, 6: 1}\n",
      "Total number of self-loops:  0\n",
      "List of all nodes with self-loops:  []\n",
      "List of all nodes we can go to in a single step from node 2:  [3, 4]\n"
     ]
    }
   ],
   "source": [
    "import copy\n",
    "alignment_dict={1:[1,5],2:[2]}\n",
    "reverse_alignment_dict={1:1,2:2,5:1}\n",
    "#step 1, node alignment\n",
    "multi_graph=copy.deepcopy(G)\n",
    "list_of_added_english_nodes=[]\n",
    "#get_the_stats(multi_graph)\n",
    "for node in G.nodes():\n",
    "    if node in alignment_dict.keys():\n",
    "        for comp in alignment_dict[node]:\n",
    "            aligned_node_of_H=comp\n",
    "            list_of_added_english_nodes.append(aligned_node_of_H)\n",
    "            #merge nodes in new graph\n",
    "            english_verbs=H.node[aligned_node_of_H][\"verb\"]\n",
    "            multi_graph.node[node][\"verb\"]+=\" \"+english_verbs\n",
    "for node in multi_graph.nodes():\n",
    "    print(node, multi_graph.node[node])\n",
    "get_the_stats(multi_graph)"
   ]
  },
  {
   "cell_type": "code",
   "execution_count": 50,
   "metadata": {},
   "outputs": [
    {
     "name": "stdout",
     "output_type": "stream",
     "text": [
      "[1, 5, 2]\n",
      "[1, 5, 2, 3, 4, 6, 7]\n",
      "[1, 5, 2, 3, 4, 6, 7, 8]\n",
      "1 {'verb': 'bununu ooples ooples'}\n",
      "2 {'verb': 'bununu ooples'}\n",
      "3 {'verb': 'bununu'}\n",
      "4 {'verb': 'bununu'}\n",
      "5 {'verb': 'bununu'}\n",
      "6 {'verb': 'bununu'}\n",
      "7 {'verb': 'ooples'}\n",
      "8 {'verb': 'ooples'}\n",
      "9 {'verb': 'ooples'}\n",
      "10 {'verb': 'ooples'}\n",
      "11 {'verb': 'ooples'}\n",
      "Total number of nodes:  11\n",
      "Total number of edges:  7\n",
      "List of all nodes:  [1, 2, 3, 4, 5, 6, 7, 8, 9, 10, 11]\n",
      "List of all edges:  [(1, 9, {}), (1, 2, {}), (2, 8, {}), (2, 3, {}), (2, 4, {}), (2, 7, {}), (5, 6, {})]\n",
      "Degree for all nodes:  {1: 2, 2: 5, 3: 1, 4: 1, 5: 1, 6: 1, 7: 1, 8: 1, 9: 1, 10: 0, 11: 0}\n",
      "Total number of self-loops:  0\n",
      "List of all nodes with self-loops:  []\n",
      "List of all nodes we can go to in a single step from node 2:  [8, 3, 4, 7]\n"
     ]
    }
   ],
   "source": [
    "#step 2, adding missing nodes and edges from english graph\n",
    "new_node_number=G.number_of_nodes()+1\n",
    "print(list_of_added_english_nodes)\n",
    "for node in H.nodes():\n",
    "    if node not in list_of_added_english_nodes:\n",
    "        new_component_number=new_node_number\n",
    "        new_node_number+=1\n",
    "        multi_graph.add_node(new_component_number)\n",
    "        multi_graph.node[new_component_number][\"verb\"]=H.node[node][\"verb\"]\n",
    "        list_of_added_english_nodes.append(node)\n",
    "        print(list_of_added_english_nodes)\n",
    "    neighbors_nodes=H.neighbors(node)\n",
    "    for neighbour in neighbors_nodes:\n",
    "        if node not in list_of_added_english_nodes and neighbour not in list_of_added_english_nodes:\n",
    "            multi_graph.add_node(new_node_number)\n",
    "            multi_graph.node[new_node_number][\"verb\"]=H.node[neighbour][\"verb\"]\n",
    "            multi_graph.add_edge(new_component_number, new_node_number)\n",
    "            new_node_number+=1\n",
    "            list_of_added_english_nodes.append(neighbour)\n",
    "        elif node in list_of_added_english_nodes and neighbour not in list_of_added_english_nodes:\n",
    "            corresponding_German_node=reverse_alignment_dict[node]\n",
    "            multi_graph.add_node(new_node_number)\n",
    "            multi_graph.node[new_node_number][\"verb\"]=H.node[neighbour][\"verb\"]\n",
    "            multi_graph.add_edge(corresponding_German_node, new_node_number)\n",
    "            new_node_number+=1\n",
    "            list_of_added_english_nodes.append(neighbour)\n",
    "for node in multi_graph.nodes():\n",
    "    print(node,multi_graph.node[node])\n",
    "get_the_stats(multi_graph)"
   ]
  },
  {
   "cell_type": "code",
   "execution_count": null,
   "metadata": {
    "collapsed": true
   },
   "outputs": [],
   "source": []
  }
 ],
 "metadata": {
  "kernelspec": {
   "display_name": "Python 3",
   "language": "python",
   "name": "python3"
  },
  "language_info": {
   "codemirror_mode": {
    "name": "ipython",
    "version": 3
   },
   "file_extension": ".py",
   "mimetype": "text/x-python",
   "name": "python",
   "nbconvert_exporter": "python",
   "pygments_lexer": "ipython3",
   "version": "3.7.4"
  }
 },
 "nbformat": 4,
 "nbformat_minor": 2
}
